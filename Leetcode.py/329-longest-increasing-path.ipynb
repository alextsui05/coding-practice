{
 "cells": [
  {
   "cell_type": "markdown",
   "metadata": {},
   "source": [
    "The problem gives us a 2d array of integers and we want to return the longest path that has a sequence of increasing integers. We can do a depth-first search at all possible starting points, keeping track of the maximum length and backtracking if we are unable to extend the length of the path.\n",
    "\n",
    "DFS works by keeping a stack of nodes that are being visited. When visiting a node, each of its neighbors get pushed onto the stack and then visited."
   ]
  },
  {
   "cell_type": "code",
   "execution_count": 1,
   "metadata": {
    "collapsed": true
   },
   "outputs": [],
   "source": [
    "nums = [\n",
    "  [9,9,4],\n",
    "  [6,6,8],\n",
    "  [2,1,1]\n",
    "]"
   ]
  },
  {
   "cell_type": "markdown",
   "metadata": {},
   "source": [
    "Since we're building paths, let's build a simple path data structure. It's basically just a path represented as a list together with a length. Actually, nevermind, let's assume the python list's len implementation is O(1)."
   ]
  },
  {
   "cell_type": "markdown",
   "metadata": {},
   "source": [
    "Actually, we don't need to keep a list of visited nodes because we can be sure that we will never have any cycles. We don't have cycles because the path of integers should be strictly increasing."
   ]
  },
  {
   "cell_type": "markdown",
   "metadata": {},
   "source": [
    "The neighbors function takes a cell position and returns the adjacent cell positions that are (1) in-bounds and (2) contains a larger integer value than the one in the current cell position."
   ]
  },
  {
   "cell_type": "code",
   "execution_count": 11,
   "metadata": {
    "collapsed": true
   },
   "outputs": [],
   "source": [
    "def neighbors(xy, matrix):\n",
    "    dx = [1, 0, -1, 0]\n",
    "    neighbors = [(xy[0] + d[0], xy[1] + d[1]) for d in zip(dx, dx[1:] + dx[:1])]\n",
    "    neighbors = filter(lambda x: x[0] >= 0 and x[0] < len(matrix) and x[1] >= 0 and x[1] < len(matrix[0]), neighbors)\n",
    "    neighbors = filter(lambda x: matrix[x[0]][x[1]] > matrix[xy[0]][xy[1]], neighbors)\n",
    "    return neighbors"
   ]
  },
  {
   "cell_type": "code",
   "execution_count": 16,
   "metadata": {
    "collapsed": false
   },
   "outputs": [
    {
     "data": {
      "text/plain": [
       "[(0, 0)]"
      ]
     },
     "execution_count": 16,
     "metadata": {},
     "output_type": "execute_result"
    }
   ],
   "source": [
    "neighbors((1,0), nums)"
   ]
  },
  {
   "cell_type": "markdown",
   "metadata": {},
   "source": [
    "Here's my first attempt at a recursive depth-first search visitor function. It will add the integer at the current cell position `xy` to the current path, then extend the path by branching out to all valid neighbors. It returns the longest path out of all of the neighbors."
   ]
  },
  {
   "cell_type": "code",
   "execution_count": 24,
   "metadata": {
    "collapsed": true
   },
   "outputs": [],
   "source": [
    "def extendPath(xy, matrix, path):\n",
    "    path.append(matrix[xy[0]][xy[1]])\n",
    "    nbrs = neighbors(xy, matrix)\n",
    "    if len(nbrs) == 0:\n",
    "        return path\n",
    "    else:\n",
    "        max_path = path\n",
    "        for n in nbrs:\n",
    "            p = extendPath(n, matrix, path)\n",
    "            if len(p) > len(max_path):\n",
    "                max_path = p\n",
    "        return max_path"
   ]
  },
  {
   "cell_type": "code",
   "execution_count": 25,
   "metadata": {
    "collapsed": false
   },
   "outputs": [
    {
     "data": {
      "text/plain": [
       "[1, 2, 6, 9, 6, 9, 8]"
      ]
     },
     "execution_count": 25,
     "metadata": {},
     "output_type": "execute_result"
    }
   ],
   "source": [
    "extendPath((2, 1), nums, [])"
   ]
  },
  {
   "cell_type": "markdown",
   "metadata": {},
   "source": [
    "I realize that the `path` parameter is passed by reference, so I fix this by making an explicit copy of the result to return. Then I pop the value from `path` as I am backtracking."
   ]
  },
  {
   "cell_type": "code",
   "execution_count": 26,
   "metadata": {
    "collapsed": true
   },
   "outputs": [],
   "source": [
    "def extendPath(xy, matrix, path):\n",
    "    path.append(matrix[xy[0]][xy[1]])\n",
    "    nbrs = neighbors(xy, matrix)\n",
    "    if len(nbrs) == 0:\n",
    "        res = path[:]\n",
    "        path.pop()\n",
    "        return res\n",
    "    else:\n",
    "        max_path = path\n",
    "        for n in nbrs:\n",
    "            p = extendPath(n, matrix, path)\n",
    "            if len(p) > len(max_path):\n",
    "                max_path = p\n",
    "        path.pop()\n",
    "        return max_path"
   ]
  },
  {
   "cell_type": "code",
   "execution_count": 27,
   "metadata": {
    "collapsed": false
   },
   "outputs": [
    {
     "data": {
      "text/plain": [
       "[1, 2, 6, 9]"
      ]
     },
     "execution_count": 27,
     "metadata": {},
     "output_type": "execute_result"
    }
   ],
   "source": [
    "extendPath((2, 1), nums, [])"
   ]
  },
  {
   "cell_type": "markdown",
   "metadata": {},
   "source": [
    "So to solve the problem, I find the longest path at every possible starting cell position, then keep track of the max over the entire matrix."
   ]
  },
  {
   "cell_type": "code",
   "execution_count": 30,
   "metadata": {
    "collapsed": true
   },
   "outputs": [],
   "source": [
    "def longestIncreasingPath(matrix):\n",
    "    max_path = []\n",
    "    for r in range(len(nums)):\n",
    "        for c in range(len(nums[r])):\n",
    "            path = extendPath((r, c), matrix, [])\n",
    "            if len(path) > len(max_path):\n",
    "                max_path = path\n",
    "    return max_path\n",
    "                \n",
    "    "
   ]
  },
  {
   "cell_type": "code",
   "execution_count": 35,
   "metadata": {
    "collapsed": false
   },
   "outputs": [
    {
     "data": {
      "text/plain": [
       "[1, 2, 6, 9]"
      ]
     },
     "execution_count": 35,
     "metadata": {},
     "output_type": "execute_result"
    }
   ],
   "source": [
    "longestIncreasingPath(nums)"
   ]
  },
  {
   "cell_type": "code",
   "execution_count": 36,
   "metadata": {
    "collapsed": false
   },
   "outputs": [
    {
     "data": {
      "text/plain": [
       "[3, 4, 5, 6]"
      ]
     },
     "execution_count": 36,
     "metadata": {},
     "output_type": "execute_result"
    }
   ],
   "source": [
    "longestIncreasingPath([\n",
    "  [3,4,5],\n",
    "  [3,2,6],\n",
    "  [2,2,1]\n",
    "])"
   ]
  },
  {
   "cell_type": "markdown",
   "metadata": {},
   "source": [
    "This algorithm can be optimized by memoizing the result at each cell position."
   ]
  },
  {
   "cell_type": "code",
   "execution_count": 50,
   "metadata": {
    "collapsed": true
   },
   "outputs": [],
   "source": [
    "def cachePath(path, xy, cache):\n",
    "    if not cache:\n",
    "        return\n",
    "    if xy not in cache:\n",
    "        cache[xy] = path\n",
    "    if len(cache[xy]) < len(path):\n",
    "        cache[xy] = path\n",
    "    \n",
    "def extendPath(xy, matrix, path, cache = None):\n",
    "    if cache and xy in cache:\n",
    "        return cache[xy]\n",
    "    \n",
    "    val = matrix[xy[0]][xy[1]]\n",
    "    nbrs = neighbors(xy, matrix)\n",
    "    if len(nbrs) == 0:\n",
    "        if cache is not None and xy not in cache:\n",
    "            cache[xy] = [val]\n",
    "        return [val]\n",
    "    else:\n",
    "        path.append(val)\n",
    "        max_subpath = []\n",
    "        for nbr in nbrs:\n",
    "            subpath = extendPath(nbr, matrix, path, cache)\n",
    "            if len(subpath) > len(max_subpath):\n",
    "                max_subpath = subpath\n",
    "        path.pop()\n",
    "        if cache is not None and xy not in cache:\n",
    "            cache[xy] = [val] + max_subpath\n",
    "        return [val] + max_subpath\n",
    "\n",
    "def longestIncreasingPath(matrix):\n",
    "    max_path = []\n",
    "    cache = {}\n",
    "    for r in range(len(nums)):\n",
    "        for c in range(len(nums[r])):\n",
    "            path = extendPath((r, c), matrix, [], cache)\n",
    "            if len(path) > len(max_path):\n",
    "                max_path = path\n",
    "    print cache\n",
    "    return max_path"
   ]
  },
  {
   "cell_type": "code",
   "execution_count": 51,
   "metadata": {
    "collapsed": false,
    "scrolled": true
   },
   "outputs": [
    {
     "name": "stdout",
     "output_type": "stream",
     "text": [
      "{(1, 2): [6], (0, 1): [4, 5, 6], (0, 0): [3, 4, 5, 6], (2, 1): [2], (1, 1): [2, 4, 5, 6], (2, 0): [2, 3], (2, 2): [1, 2], (1, 0): [3], (0, 2): [5, 6]}\n"
     ]
    },
    {
     "data": {
      "text/plain": [
       "[3, 4, 5, 6]"
      ]
     },
     "execution_count": 51,
     "metadata": {},
     "output_type": "execute_result"
    }
   ],
   "source": [
    "longestIncreasingPath([\n",
    "  [3,4,5],\n",
    "  [3,2,6],\n",
    "  [2,2,1]\n",
    "])\n"
   ]
  },
  {
   "cell_type": "markdown",
   "metadata": {},
   "source": [
    "So some comments about what I wrote.\n",
    "\n",
    "I didn't use the `cachePath` function at all.\n",
    "\n",
    "The `path` parameter to `extendPath` served no function.\n",
    "\n",
    "I cannot use the C++ idiom of checking whether something is null like so\n",
    "```\n",
    "cache = {}\n",
    "if not cache:\n",
    "    ...\n",
    "```\n",
    "because an empty cache also evaluates to False. So I need to do something more verbose and explicitly check whether `cache is None`."
   ]
  },
  {
   "cell_type": "code",
   "execution_count": 59,
   "metadata": {
    "collapsed": true
   },
   "outputs": [],
   "source": [
    "def cachePath(path, xy, cache):\n",
    "    if cache is None:\n",
    "        return\n",
    "    if xy not in cache:\n",
    "        cache[xy] = path\n",
    "    if len(cache[xy]) < len(path):\n",
    "        cache[xy] = path\n",
    "    \n",
    "def extendPath(xy, matrix, cache = None):\n",
    "    if cache and xy in cache:\n",
    "        return cache[xy]\n",
    "    \n",
    "    val = matrix[xy[0]][xy[1]]\n",
    "    nbrs = neighbors(xy, matrix)\n",
    "    if len(nbrs) == 0:\n",
    "        cachePath([val], xy, cache)\n",
    "        return [val]\n",
    "    else:\n",
    "        max_subpath = []\n",
    "        for nbr in nbrs:\n",
    "            subpath = extendPath(nbr, matrix, cache)\n",
    "            if len(subpath) > len(max_subpath):\n",
    "                max_subpath = subpath\n",
    "        cachePath([val] + max_subpath, xy, cache)\n",
    "        return [val] + max_subpath\n",
    "\n",
    "def longestIncreasingPath(matrix):\n",
    "    max_path = []\n",
    "    cache = {}\n",
    "    for r in range(len(nums)):\n",
    "        for c in range(len(nums[r])):\n",
    "            path = extendPath((r, c), matrix, cache)\n",
    "            if len(path) > len(max_path):\n",
    "                max_path = path\n",
    "    print cache\n",
    "    return max_path"
   ]
  },
  {
   "cell_type": "code",
   "execution_count": 60,
   "metadata": {
    "collapsed": false
   },
   "outputs": [
    {
     "name": "stdout",
     "output_type": "stream",
     "text": [
      "{(1, 2): [6], (0, 1): [4, 5, 6], (0, 0): [3, 4, 5, 6], (2, 1): [2], (1, 1): [2, 4, 5, 6], (2, 0): [2, 3], (2, 2): [1, 2], (1, 0): [3], (0, 2): [5, 6]}\n"
     ]
    },
    {
     "data": {
      "text/plain": [
       "[3, 4, 5, 6]"
      ]
     },
     "execution_count": 60,
     "metadata": {},
     "output_type": "execute_result"
    }
   ],
   "source": [
    "longestIncreasingPath([\n",
    "  [3,4,5],\n",
    "  [3,2,6],\n",
    "  [2,2,1]\n",
    "])"
   ]
  },
  {
   "cell_type": "code",
   "execution_count": 63,
   "metadata": {
    "collapsed": true
   },
   "outputs": [],
   "source": [
    "class Solution(object):\n",
    "    def neighbors(self, xy, matrix):\n",
    "        dx = [1, 0, -1, 0]\n",
    "        neighbors = [(xy[0] + d[0], xy[1] + d[1]) for d in zip(dx, dx[1:] + dx[:1])]\n",
    "        neighbors = filter(lambda x: x[0] >= 0 and x[0] < len(matrix) and x[1] >= 0 and x[1] < len(matrix[0]), neighbors)\n",
    "        neighbors = filter(lambda x: matrix[x[0]][x[1]] > matrix[xy[0]][xy[1]], neighbors)\n",
    "        return neighbors\n",
    "\n",
    "    def cachePath(self, path, xy, cache):\n",
    "        if cache is None:\n",
    "            return\n",
    "        if xy not in cache:\n",
    "            cache[xy] = path\n",
    "        if len(cache[xy]) < len(path):\n",
    "            cache[xy] = path\n",
    "\n",
    "    def extendPath(self, xy, matrix, cache = None):\n",
    "        if cache and xy in cache:\n",
    "            return cache[xy]\n",
    "\n",
    "        val = matrix[xy[0]][xy[1]]\n",
    "        nbrs = self.neighbors(xy, matrix)\n",
    "        if len(nbrs) == 0:\n",
    "            self.cachePath([val], xy, cache)\n",
    "            return [val]\n",
    "        else:\n",
    "            max_subpath = []\n",
    "            for nbr in nbrs:\n",
    "                subpath = self.extendPath(nbr, matrix, cache)\n",
    "                if len(subpath) > len(max_subpath):\n",
    "                    max_subpath = subpath\n",
    "            self.cachePath([val] + max_subpath, xy, cache)\n",
    "            return [val] + max_subpath\n",
    "\n",
    "    def longestIncreasingPath(self, matrix):\n",
    "        max_path = []\n",
    "        cache = {}\n",
    "        for r in range(len(nums)):\n",
    "            for c in range(len(nums[r])):\n",
    "                path = self.extendPath((r, c), matrix, cache)\n",
    "                if len(path) > len(max_path):\n",
    "                    max_path = path\n",
    "        return max_path"
   ]
  },
  {
   "cell_type": "code",
   "execution_count": 64,
   "metadata": {
    "collapsed": false
   },
   "outputs": [
    {
     "data": {
      "text/plain": [
       "[3, 4, 5, 6]"
      ]
     },
     "execution_count": 64,
     "metadata": {},
     "output_type": "execute_result"
    }
   ],
   "source": [
    "soln = Solution()\n",
    "soln.longestIncreasingPath([\n",
    "  [3,4,5],\n",
    "  [3,2,6],\n",
    "  [2,2,1]\n",
    "])"
   ]
  },
  {
   "cell_type": "markdown",
   "metadata": {},
   "source": [
    "This is my submission to the online judge, it is pretty slow at 1552 ms.\n",
    "![Slow](img/329-runtime.png)"
   ]
  },
  {
   "cell_type": "code",
   "execution_count": null,
   "metadata": {
    "collapsed": true
   },
   "outputs": [],
   "source": []
  }
 ],
 "metadata": {
  "kernelspec": {
   "display_name": "Python 2",
   "language": "python",
   "name": "python2"
  },
  "language_info": {
   "codemirror_mode": {
    "name": "ipython",
    "version": 2
   },
   "file_extension": ".py",
   "mimetype": "text/x-python",
   "name": "python",
   "nbconvert_exporter": "python",
   "pygments_lexer": "ipython2",
   "version": "2.7.6"
  }
 },
 "nbformat": 4,
 "nbformat_minor": 0
}
